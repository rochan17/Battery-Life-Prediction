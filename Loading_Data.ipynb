{
  "nbformat": 4,
  "nbformat_minor": 0,
  "metadata": {
    "kernelspec": {
      "display_name": "Python 3",
      "language": "python",
      "name": "python3"
    },
    "language_info": {
      "codemirror_mode": {
        "name": "ipython",
        "version": 3
      },
      "file_extension": ".py",
      "mimetype": "text/x-python",
      "name": "python",
      "nbconvert_exporter": "python",
      "pygments_lexer": "ipython3",
      "version": "3.7.4"
    },
    "colab": {
      "name": "Loading_Data.ipynb",
      "provenance": [],
      "private_outputs": true,
      "include_colab_link": true
    }
  },
  "cells": [
    {
      "cell_type": "markdown",
      "metadata": {
        "id": "view-in-github",
        "colab_type": "text"
      },
      "source": [
        "<a href=\"https://colab.research.google.com/github/rochan17/Battery-Life-Prediction/blob/master/Loading_Data.ipynb\" target=\"_parent\"><img src=\"https://colab.research.google.com/assets/colab-badge.svg\" alt=\"Open In Colab\"/></a>"
      ]
    },
    {
      "cell_type": "code",
      "metadata": {
        "id": "rQM-LJJSFaxq",
        "colab_type": "code",
        "colab": {}
      },
      "source": [
        "import numpy as np\n",
        "import matplotlib.pyplot as plt\n",
        "import pickle\n",
        "from scipy.stats import skew,kurtosis\n",
        "import pandas as pd"
      ],
      "execution_count": 0,
      "outputs": []
    },
    {
      "cell_type": "code",
      "metadata": {
        "id": "dfELP9f9Fax3",
        "colab_type": "code",
        "colab": {}
      },
      "source": [
        "batch1 = pickle.load(open(r'batch1.pkl', 'rb'))\n",
        "#remove batteries that do not reach 80% capacity\n",
        "del batch1['b1c8']\n",
        "del batch1['b1c10']\n",
        "del batch1['b1c12']\n",
        "del batch1['b1c13']\n",
        "del batch1['b1c22']"
      ],
      "execution_count": 0,
      "outputs": []
    },
    {
      "cell_type": "code",
      "metadata": {
        "id": "7z5jkotQFax9",
        "colab_type": "code",
        "colab": {}
      },
      "source": [
        "numBat1 = len(batch1.keys())\n",
        "numBat1"
      ],
      "execution_count": 0,
      "outputs": []
    },
    {
      "cell_type": "code",
      "metadata": {
        "id": "cHJjxchcFayD",
        "colab_type": "code",
        "colab": {}
      },
      "source": [
        "batch2 = pickle.load(open(r'batch2.pkl','rb'))"
      ],
      "execution_count": 0,
      "outputs": []
    },
    {
      "cell_type": "code",
      "metadata": {
        "id": "7SlwknqBFayH",
        "colab_type": "code",
        "colab": {}
      },
      "source": [
        "# There are four cells from batch1 that carried into batch2, we'll remove the data from batch2\n",
        "# and put it with the correct cell from batch1\n",
        "batch2_keys = ['b2c7', 'b2c8', 'b2c9', 'b2c15', 'b2c16']\n",
        "batch1_keys = ['b1c0', 'b1c1', 'b1c2', 'b1c3', 'b1c4']\n",
        "add_len = [662, 981, 1060, 208, 482];"
      ],
      "execution_count": 0,
      "outputs": []
    },
    {
      "cell_type": "code",
      "metadata": {
        "id": "7Ei4JN5BFayL",
        "colab_type": "code",
        "colab": {}
      },
      "source": [
        "for i, bk in enumerate(batch1_keys):\n",
        "    batch1[bk]['cycle_life'] = batch1[bk]['cycle_life'] + add_len[i]\n",
        "    for j in batch1[bk]['summary'].keys():\n",
        "        if j == 'cycle':\n",
        "            batch1[bk]['summary'][j] = np.hstack((batch1[bk]['summary'][j], batch2[batch2_keys[i]]['summary'][j] + len(batch1[bk]['summary'][j])))\n",
        "        else:\n",
        "            batch1[bk]['summary'][j] = np.hstack((batch1[bk]['summary'][j], batch2[batch2_keys[i]]['summary'][j]))\n",
        "    last_cycle = len(batch1[bk]['cycles'].keys())\n",
        "    for j, jk in enumerate(batch2[batch2_keys[i]]['cycles'].keys()):\n",
        "        batch1[bk]['cycles'][str(last_cycle + j)] = batch2[batch2_keys[i]]['cycles'][jk]"
      ],
      "execution_count": 0,
      "outputs": []
    },
    {
      "cell_type": "code",
      "metadata": {
        "jupyter": {
          "source_hidden": true
        },
        "id": "pAEQyZkIFayP",
        "colab_type": "code",
        "colab": {}
      },
      "source": [
        "del batch2['b2c7']\n",
        "del batch2['b2c8']\n",
        "del batch2['b2c9']\n",
        "del batch2['b2c15']\n",
        "del batch2['b2c16']"
      ],
      "execution_count": 0,
      "outputs": []
    },
    {
      "cell_type": "code",
      "metadata": {
        "id": "Ww7Bg1hFFayT",
        "colab_type": "code",
        "colab": {}
      },
      "source": [
        "numBat2 = len(batch2.keys())\n",
        "numBat2"
      ],
      "execution_count": 0,
      "outputs": []
    },
    {
      "cell_type": "code",
      "metadata": {
        "id": "PduP6OOVFayW",
        "colab_type": "code",
        "colab": {}
      },
      "source": [
        "batch3 = pickle.load(open(r'batch3.pkl','rb'))\n",
        "# remove noisy channels from batch3\n",
        "del batch3['b3c37']\n",
        "del batch3['b3c2']\n",
        "del batch3['b3c23']\n",
        "del batch3['b3c32']\n",
        "del batch3['b3c38']\n",
        "del batch3['b3c39']"
      ],
      "execution_count": 0,
      "outputs": []
    },
    {
      "cell_type": "code",
      "metadata": {
        "id": "Z5A9tZMNFaya",
        "colab_type": "code",
        "colab": {}
      },
      "source": [
        "numBat3 = len(batch3.keys())\n",
        "numBat3"
      ],
      "execution_count": 0,
      "outputs": []
    },
    {
      "cell_type": "code",
      "metadata": {
        "id": "eI6sRHcXFayd",
        "colab_type": "code",
        "colab": {}
      },
      "source": [
        "numBat = numBat1 + numBat2 + numBat3\n",
        "numBat"
      ],
      "execution_count": 0,
      "outputs": []
    },
    {
      "cell_type": "code",
      "metadata": {
        "id": "oxJEV-oYFayh",
        "colab_type": "code",
        "colab": {}
      },
      "source": [
        "bat_dict = {**batch1, **batch2, **batch3}"
      ],
      "execution_count": 0,
      "outputs": []
    },
    {
      "cell_type": "code",
      "metadata": {
        "id": "EDxXK7xqFayl",
        "colab_type": "code",
        "colab": {}
      },
      "source": [
        "plt.figure(figsize=(15,10))\n",
        "for i in bat_dict.keys():\n",
        "    plt.plot(bat_dict[i]['summary']['cycle'], bat_dict[i]['summary']['QD'])\n",
        "plt.xlabel('Cycle Number')\n",
        "plt.ylabel('Discharge Capacity (Ah)')"
      ],
      "execution_count": 0,
      "outputs": []
    },
    {
      "cell_type": "code",
      "metadata": {
        "id": "jy2r1k-xFayo",
        "colab_type": "code",
        "colab": {}
      },
      "source": [
        "test_ind = np.hstack((np.arange(0,(numBat1+numBat2),2),83))\n",
        "train_ind = np.arange(1,(numBat1+numBat2-1),2)\n",
        "secondary_test_ind = np.arange(numBat-numBat3,numBat)"
      ],
      "execution_count": 0,
      "outputs": []
    },
    {
      "cell_type": "code",
      "metadata": {
        "id": "n6lwu1PiFayr",
        "colab_type": "code",
        "colab": {}
      },
      "source": [
        "bat_dict['b2c5']['summary']['QD'].size"
      ],
      "execution_count": 0,
      "outputs": []
    },
    {
      "cell_type": "code",
      "metadata": {
        "id": "6-_FyePoFayu",
        "colab_type": "code",
        "colab": {}
      },
      "source": [
        "bat_dict['b2c5']['cycles']['10']['Qd']"
      ],
      "execution_count": 0,
      "outputs": []
    },
    {
      "cell_type": "code",
      "metadata": {
        "id": "yflo2LBMFayx",
        "colab_type": "code",
        "colab": {}
      },
      "source": [
        "#Discharge capacity curves for the 100th and 10th cell for one randomly chosen cell\n",
        "\n",
        "plt.plot(bat_dict['b2c5']['cycles']['100']['Qd'],bat_dict['b2c5']['cycles']['100']['V'],c='red')\n",
        "plt.plot(bat_dict['b2c5']['cycles']['10']['Qd'],bat_dict['b2c5']['cycles']['10']['V'],c='blue')\n",
        "plt.xlim((0,bat_dict['b2c5']['cycles']['10']['Qd'].max()))\n",
        "plt.ylim((2,3.5))\n",
        "plt.xticks(ticks=[0,0.5,1.0])\n",
        "plt.yticks(ticks=[2.0,(2.0+3.5)/2,3.5])\n",
        "plt.xlabel('Discharge Capacity(Ah)')\n",
        "plt.ylabel('Voltage(V)')\n",
        "plt.show()"
      ],
      "execution_count": 0,
      "outputs": []
    },
    {
      "cell_type": "markdown",
      "metadata": {
        "id": "43jehfROHpaY",
        "colab_type": "text"
      },
      "source": [
        "**Creating Dataset**"
      ]
    },
    {
      "cell_type": "code",
      "metadata": {
        "id": "5wu_deC7Fay1",
        "colab_type": "code",
        "colab": {}
      },
      "source": [
        "plt.figure(figsize=(10,12))\n",
        "plt.xlim(-0.15,0)\n",
        "plt.ylim(2,3.5)\n",
        "\n",
        "minimum_dQ_100_10 = np.zeros(len(bat_dict.keys()))\n",
        "variance_dQ_100_10 = np.zeros(len(bat_dict.keys()))\n",
        "skewness_dQ_100_10 = np.zeros(len(bat_dict.keys()))\n",
        "kurtosis_dQ_100_10 = np.zeros(len(bat_dict.keys()))\n",
        "\n",
        "for i, cell in enumerate(bat_dict.values()):\n",
        "    c10 = cell['cycles']['10']\n",
        "    c100 = cell['cycles']['100']\n",
        "    dQ_100_10 = c100['Qdlin'] - c10['Qdlin']\n",
        "    plt.plot(dQ_100_10,np.linspace(3.5,2,1000))\n",
        "    \n",
        "    minimum_dQ_100_10[i] = np.log(np.abs(np.min(dQ_100_10)))\n",
        "    variance_dQ_100_10[i] = np.log(np.var(dQ_100_10))\n",
        "    skewness_dQ_100_10[i] = np.log(np.abs(skew(dQ_100_10)))\n",
        "    kurtosis_dQ_100_10[i] = np.log(np.abs(kurtosis(dQ_100_10)))"
      ],
      "execution_count": 0,
      "outputs": []
    },
    {
      "cell_type": "code",
      "metadata": {
        "id": "Jg6Fok1kFay-",
        "colab_type": "code",
        "colab": {}
      },
      "source": [
        "dataset=pd.DataFrame()"
      ],
      "execution_count": 0,
      "outputs": []
    },
    {
      "cell_type": "code",
      "metadata": {
        "id": "FcfXL6kBFazC",
        "colab_type": "code",
        "colab": {}
      },
      "source": [
        "dataset['cell']=bat_dict.keys()"
      ],
      "execution_count": 0,
      "outputs": []
    },
    {
      "cell_type": "code",
      "metadata": {
        "id": "Gf_R4z-uFazG",
        "colab_type": "code",
        "colab": {}
      },
      "source": [
        "cl=[]\n",
        "for i in bat_dict.keys():\n",
        "    cl.append(bat_dict[i]['cycle_life'][0][0])\n",
        "dataset['cell_life']=cl"
      ],
      "execution_count": 0,
      "outputs": []
    },
    {
      "cell_type": "code",
      "metadata": {
        "id": "SbrRFjCvFazJ",
        "colab_type": "code",
        "colab": {}
      },
      "source": [
        "dataset['minimum_dQ_100_10']=minimum_dQ_100_10\n",
        "dataset['variance_dQ_100_10']=variance_dQ_100_10 \n",
        "dataset['skewness_dQ_100_10']=skewness_dQ_100_10 \n",
        "dataset['kurtosis_dQ_100_10']=kurtosis_dQ_100_10 "
      ],
      "execution_count": 0,
      "outputs": []
    },
    {
      "cell_type": "code",
      "metadata": {
        "id": "_zMlw3WFFazL",
        "colab_type": "code",
        "colab": {}
      },
      "source": [
        "dataset.head()"
      ],
      "execution_count": 0,
      "outputs": []
    },
    {
      "cell_type": "code",
      "metadata": {
        "id": "CRp3dPGdFazO",
        "colab_type": "code",
        "colab": {}
      },
      "source": [
        "plt.figure(figsize=(5,6))\n",
        "plt.ylim(pow(10,2),pow(10,3.5))\n",
        "plt.xlim(pow(10,-6),pow(10,-2))\n",
        "plt.yscale(value='log')\n",
        "plt.xscale(value='log')\n",
        "plt.xticks(np.power(10,np.linspace(-6,-2,3)))\n",
        "plt.scatter(x=(dataset['variance_dQ_100_10']),y=dataset['cell_life'])"
      ],
      "execution_count": 0,
      "outputs": []
    },
    {
      "cell_type": "markdown",
      "metadata": {
        "id": "N32WbYEiHOrs",
        "colab_type": "text"
      },
      "source": [
        "**Discharge Capacity Fade Curve Features**"
      ]
    },
    {
      "cell_type": "code",
      "metadata": {
        "id": "ank27y8BFazR",
        "colab_type": "code",
        "colab": {}
      },
      "source": [
        "from sklearn.linear_model import LinearRegression\n",
        "\n",
        "Slope_Cap_Fade_2_100=np.zeros(len(bat_dict.keys()))\n",
        "Intercept_Cap_Fade_2_100=np.zeros(len(bat_dict.keys()))\n",
        "Discharge_Cap_2=np.zeros(len(bat_dict.keys()))\n",
        "Diff_MaxCap_DC2=np.zeros(len(bat_dict.keys()))\n",
        "\n",
        "\n",
        "for i, cell in enumerate(bat_dict.values()):\n",
        "    cap=cell['summary']['QD'][1:100].reshape(-1,1)\n",
        "    cycle=cell['summary']['cycle'][1:100].reshape(-1,1)\n",
        "    regressor=LinearRegression()\n",
        "    regressor.fit(cycle,cap)\n",
        "    \n",
        "    Slope_Cap_Fade_2_100[i]=regressor.coef_[0]\n",
        "    Intercept_Cap_Fade_2_100[i]=regressor.intercept_\n",
        "    Discharge_Cap_2[i]=cap[0][0]\n",
        "    Diff_MaxCap_DC2[i]=np.max(cap)-cap[0][0]\n",
        "    \n",
        "dataset['Slope_Cap_Fade_2_100']=Slope_Cap_Fade_2_100\n",
        "dataset['Intercept_Cap_Fade_2_100']=Intercept_Cap_Fade_2_100\n",
        "dataset['Discharge_Cap_2']=Discharge_Cap_2\n",
        "dataset['Diff_MaxCap_DC2']=Diff_MaxCap_DC2"
      ],
      "execution_count": 0,
      "outputs": []
    },
    {
      "cell_type": "markdown",
      "metadata": {
        "id": "hYq9_2aNHW5J",
        "colab_type": "text"
      },
      "source": [
        "**Other Features**"
      ]
    },
    {
      "cell_type": "code",
      "metadata": {
        "id": "UIrjay2rFazU",
        "colab_type": "code",
        "colab": {}
      },
      "source": [
        "#Other features\n",
        "Avg_charge_time=np.zeros(len(bat_dict.keys()))\n",
        "Temp_Integ_2_100=np.zeros(len(bat_dict.keys()))\n",
        "Min_IR=np.zeros(len(bat_dict.keys()))\n",
        "Diff_IR_2_100=np.zeros(len(bat_dict.keys()))\n",
        "\n",
        "for i, cell in enumerate(bat_dict.values()):\n",
        "    avg_time=np.mean(cell['summary']['chargetime'][1:6])\n",
        "    a=cell['summary']['chargetime'][1:100]\n",
        "    b=cell['summary']['Tavg'][1:100]\n",
        "    integral=np.sum(np.multiply(a,b))\n",
        "    IR_min=min(cell['summary']['IR'][1:100])\n",
        "    IR_diff=cell['summary']['IR'][99]-cell['summary']['IR'][1]\n",
        "    \n",
        "    Avg_charge_time[i]=avg_time\n",
        "    Temp_Integ_2_100[i]=integral\n",
        "    Min_IR[i]=IR_min\n",
        "    Diff_IR_2_100[i]=IR_diff\n",
        "\n",
        "dataset['Avg_charge_time']=Avg_charge_time\n",
        "dataset['Temp_Integ_2_100']=Temp_Integ_2_100\n",
        "dataset['Min_IR']=Min_IR\n",
        "dataset['Diff_IR_2_100']=Diff_IR_2_100  "
      ],
      "execution_count": 0,
      "outputs": []
    },
    {
      "cell_type": "code",
      "metadata": {
        "id": "dB7TJ28bFazX",
        "colab_type": "code",
        "colab": {}
      },
      "source": [
        "dataset.head()"
      ],
      "execution_count": 0,
      "outputs": []
    },
    {
      "cell_type": "code",
      "metadata": {
        "id": "WvmYSNcTFaza",
        "colab_type": "code",
        "colab": {}
      },
      "source": [
        "dataset.to_csv('final_dataset.csv',na_rep='Unknown',float_format='%.6f',index=False)"
      ],
      "execution_count": 0,
      "outputs": []
    }
  ]
}