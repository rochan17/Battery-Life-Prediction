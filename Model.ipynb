{
  "nbformat": 4,
  "nbformat_minor": 0,
  "metadata": {
    "kernelspec": {
      "display_name": "Python 3",
      "language": "python",
      "name": "python3"
    },
    "language_info": {
      "codemirror_mode": {
        "name": "ipython",
        "version": 3
      },
      "file_extension": ".py",
      "mimetype": "text/x-python",
      "name": "python",
      "nbconvert_exporter": "python",
      "pygments_lexer": "ipython3",
      "version": "3.7.4"
    },
    "colab": {
      "name": "Model.ipynb",
      "provenance": [],
      "collapsed_sections": [],
      "include_colab_link": true
    }
  },
  "cells": [
    {
      "cell_type": "markdown",
      "metadata": {
        "id": "view-in-github",
        "colab_type": "text"
      },
      "source": [
        "<a href=\"https://colab.research.google.com/github/rochan17/Battery-Life-Prediction/blob/master/Model.ipynb\" target=\"_parent\"><img src=\"https://colab.research.google.com/assets/colab-badge.svg\" alt=\"Open In Colab\"/></a>"
      ]
    },
    {
      "cell_type": "code",
      "metadata": {
        "id": "qkHLQ9KSn_jb",
        "colab_type": "code",
        "colab": {}
      },
      "source": [
        "import numpy as np\n",
        "import pandas as pd\n",
        "import matplotlib.pyplot as plt\n",
        "from sklearn.linear_model import ElasticNet,LinearRegression\n",
        "from sklearn.metrics import mean_squared_error,make_scorer,mean_absolute_error\n",
        "from sklearn.model_selection import GridSearchCV,train_test_split"
      ],
      "execution_count": 0,
      "outputs": []
    },
    {
      "cell_type": "code",
      "metadata": {
        "id": "dKdr0Vtwn_jf",
        "colab_type": "code",
        "colab": {}
      },
      "source": [
        "#making mean-percentage-error function\n",
        "def avg_per_error(y_true,y_pred):\n",
        "    return np.mean(np.abs((y_true - y_pred) / y_true)) * 100\n",
        "mean_error=make_scorer(avg_per_error,greater_is_better=False)\n"
      ],
      "execution_count": 0,
      "outputs": []
    },
    {
      "cell_type": "code",
      "metadata": {
        "id": "aoWpKGlHmO_n",
        "colab_type": "code",
        "colab": {
          "base_uri": "https://localhost:8080/",
          "height": 34
        },
        "outputId": "9aef2585-8939-4387-eaac-7a4aea03bbf4"
      },
      "source": [
        "from google.colab import drive\n",
        "drive.mount('/content/drive')"
      ],
      "execution_count": 21,
      "outputs": [
        {
          "output_type": "stream",
          "text": [
            "Drive already mounted at /content/drive; to attempt to forcibly remount, call drive.mount(\"/content/drive\", force_remount=True).\n"
          ],
          "name": "stdout"
        }
      ]
    },
    {
      "cell_type": "code",
      "metadata": {
        "id": "gS9wuSLTn_ji",
        "colab_type": "code",
        "colab": {}
      },
      "source": [
        "#loading Dataset\n",
        "Dataset=pd.read_csv('/content/drive/My Drive/College/Research/Battery Ageing/final_dataset.csv')"
      ],
      "execution_count": 0,
      "outputs": []
    },
    {
      "cell_type": "code",
      "metadata": {
        "id": "iiYJQeDZn_jl",
        "colab_type": "code",
        "colab": {}
      },
      "source": [
        "Dataset_imp=Dataset[Dataset['cell_life']!=np.min(Dataset['cell_life'])]"
      ],
      "execution_count": 0,
      "outputs": []
    },
    {
      "cell_type": "code",
      "metadata": {
        "id": "9hR0o4QRn_jn",
        "colab_type": "code",
        "colab": {}
      },
      "source": [
        "numBat1=41\n",
        "numBat2=43\n",
        "numBat3=40\n",
        "numBat=numBat1+numBat2+numBat3\n",
        "test_ind = np.hstack((np.arange(0,(numBat1+numBat2),2),83))\n",
        "train_ind = np.arange(1,(numBat1+numBat2-1),2)\n",
        "secondary_test_ind = np.arange(numBat-numBat3,numBat)\n",
        "\n",
        "Training_Data=Dataset.iloc[train_ind]\n",
        "Testing_Data=Dataset.iloc[test_ind]\n",
        "Secondary_Data=Dataset.iloc[secondary_test_ind]"
      ],
      "execution_count": 0,
      "outputs": []
    },
    {
      "cell_type": "code",
      "metadata": {
        "id": "oQdWAhJ4n_jq",
        "colab_type": "code",
        "colab": {}
      },
      "source": [
        "#choosing model features \n",
        "\n",
        "varmod_features=['variance_dQ_100_10']\n",
        "\n",
        "dismod_features=['minimum_dQ_100_10',\n",
        "                 'variance_dQ_100_10',\n",
        "                 'skewness_dQ_100_10',\n",
        "                 'kurtosis_dQ_100_10',\n",
        "                 'Discharge_Cap_2',\n",
        "                 'Diff_MaxCap_DC2']\n",
        "\n",
        "full_features=['minimum_dQ_100_10',\n",
        "               'variance_dQ_100_10',\n",
        "               'Slope_Cap_Fade_2_100',\n",
        "               'Intercept_Cap_Fade_2_100',\n",
        "               'Discharge_Cap_2',\n",
        "               'Avg_charge_time',\n",
        "               'Min_IR',\n",
        "               'Diff_IR_2_100']\n",
        "\n",
        "target_features=['cell_life']"
      ],
      "execution_count": 0,
      "outputs": []
    },
    {
      "cell_type": "code",
      "metadata": {
        "id": "_4uGjScIx6E_",
        "colab_type": "code",
        "colab": {}
      },
      "source": [
        "def mod(features,target,params):\n",
        "    \n",
        "    X_train=Training_Data[features]\n",
        "    y_train=Training_Data[target]\n",
        "    X_test=Testing_Data[features]\n",
        "    y_test=Testing_Data[target]\n",
        "    X_sec=Secondary_Data[features]\n",
        "    y_sec=Secondary_Data[target]\n",
        "    \n",
        "    RMSE=list()\n",
        "    MPE=list()\n",
        "    \n",
        "    regression=ElasticNet(max_iter=50000)\n",
        "    grid=GridSearchCV(estimator=regression,\n",
        "                  param_grid=params,\n",
        "                 cv=4,iid=False)\n",
        "    grid.fit(X_train,y_train)\n",
        "    \n",
        "    print(np.round(grid.score(X_train,y_train),decimals=2))\n",
        "    print(grid.best_params_)\n",
        "    \n",
        "    y_pred_train=grid.predict(X_train)\n",
        "    y_pred_test=grid.predict(X_test)\n",
        "    y_pred_sec=grid.predict(X_sec)\n",
        "    \n",
        "    RMSE.append(np.round(np.sqrt(mean_squared_error(y_train, y_pred_train))))\n",
        "    MPE.append(np.round(float(np.mean(np.abs((y_train - y_pred_train.reshape(-1,1))) / y_train * 100))))\n",
        "    \n",
        "    RMSE.append(np.round(np.sqrt(mean_squared_error(y_test, y_pred_test))))\n",
        "    MPE.append(np.round(float(np.mean(np.abs((y_test - y_pred_test.reshape(-1,1))) / y_test * 100))))\n",
        "\n",
        "    RMSE.append(np.round(np.sqrt(mean_squared_error(y_sec, y_pred_sec))))\n",
        "    MPE.append(np.round(float(np.mean(np.abs((y_sec - y_pred_sec.reshape(-1,1))) / y_sec * 100))))\n",
        "\n",
        "    return RMSE,MPE"
      ],
      "execution_count": 0,
      "outputs": []
    },
    {
      "cell_type": "code",
      "metadata": {
        "id": "A2inrdPEn_jv",
        "colab_type": "code",
        "outputId": "2b31fbbb-432e-4ac5-f506-1cd23ab06380",
        "colab": {
          "base_uri": "https://localhost:8080/",
          "height": 85
        }
      },
      "source": [
        "var_params={'alpha':np.linspace(0.001,0.1,10),\n",
        "       'l1_ratio':np.linspace(0.1,1,10)}\n",
        "var_rmse,var_mpe=mod(varmod_features,target_features,var_params)"
      ],
      "execution_count": 45,
      "outputs": [
        {
          "output_type": "stream",
          "text": [
            "0.78\n",
            "{'alpha': 0.034, 'l1_ratio': 0.2}\n"
          ],
          "name": "stdout"
        },
        {
          "output_type": "stream",
          "text": [
            "/usr/local/lib/python3.6/dist-packages/sklearn/model_selection/_search.py:823: FutureWarning: The parameter 'iid' is deprecated in 0.22 and will be removed in 0.24.\n",
            "  \"removed in 0.24.\", FutureWarning\n"
          ],
          "name": "stderr"
        }
      ]
    },
    {
      "cell_type": "code",
      "metadata": {
        "id": "GB1PcFQon_jz",
        "colab_type": "code",
        "outputId": "0b153d61-3cee-4fc3-d4b0-6d7b6db82692",
        "colab": {
          "base_uri": "https://localhost:8080/",
          "height": 85
        }
      },
      "source": [
        "dis_params={'alpha':np.linspace(0.1,1,10),\n",
        "       'l1_ratio':np.linspace(0.1,1,10)}\n",
        "dis_rmse,dis_mpe=mod(dismod_features,target_features,dis_params)"
      ],
      "execution_count": 47,
      "outputs": [
        {
          "output_type": "stream",
          "text": [
            "0.85\n",
            "{'alpha': 0.2, 'l1_ratio': 1.0}\n"
          ],
          "name": "stdout"
        },
        {
          "output_type": "stream",
          "text": [
            "/usr/local/lib/python3.6/dist-packages/sklearn/model_selection/_search.py:823: FutureWarning: The parameter 'iid' is deprecated in 0.22 and will be removed in 0.24.\n",
            "  \"removed in 0.24.\", FutureWarning\n"
          ],
          "name": "stderr"
        }
      ]
    },
    {
      "cell_type": "code",
      "metadata": {
        "id": "6Wh63a0fn_j1",
        "colab_type": "code",
        "outputId": "b3993d5f-fc62-4c8c-c311-905a3eb27de0",
        "colab": {
          "base_uri": "https://localhost:8080/",
          "height": 85
        }
      },
      "source": [
        "full_params={'alpha':np.linspace(0.0005,0.01,10),\n",
        "       'l1_ratio':np.linspace(0.1,1,10)}\n",
        "full_rmse,full_mpe=mod(full_features,target_features,full_params)"
      ],
      "execution_count": 49,
      "outputs": [
        {
          "output_type": "stream",
          "text": [
            "0.92\n",
            "{'alpha': 0.0005, 'l1_ratio': 1.0}\n"
          ],
          "name": "stdout"
        },
        {
          "output_type": "stream",
          "text": [
            "/usr/local/lib/python3.6/dist-packages/sklearn/model_selection/_search.py:823: FutureWarning: The parameter 'iid' is deprecated in 0.22 and will be removed in 0.24.\n",
            "  \"removed in 0.24.\", FutureWarning\n"
          ],
          "name": "stderr"
        }
      ]
    },
    {
      "cell_type": "code",
      "metadata": {
        "id": "Q8QYlhuFn_j3",
        "colab_type": "code",
        "outputId": "5f22ad6e-13ff-42a7-b73f-2e9a9e99632f",
        "colab": {
          "base_uri": "https://localhost:8080/",
          "height": 142
        }
      },
      "source": [
        "pd.DataFrame({\"Model\":[\"Variance model\", \"Discharge model\", \"Full model\"],\n",
        "              \"RMSE - Train\": [var_rmse[0],dis_rmse[0],full_rmse[0]],\n",
        "              \"RMSE - Primary test\": [var_rmse[1],dis_rmse[1],full_rmse[1]],\n",
        "              \"RMSE - Secondary test\": [var_rmse[2],dis_rmse[2],full_rmse[2]],\n",
        "              \"MPE - Train\": [var_mpe[0],dis_mpe[0],full_mpe[0]],\n",
        "              \"MPE - Primary test\": [var_mpe[1],dis_mpe[1],full_mpe[1]],\n",
        "              \"MPE - Secondary test\": [var_mpe[2],dis_mpe[2],full_mpe[2]]})                                                                       "
      ],
      "execution_count": 50,
      "outputs": [
        {
          "output_type": "execute_result",
          "data": {
            "text/html": [
              "<div>\n",
              "<style scoped>\n",
              "    .dataframe tbody tr th:only-of-type {\n",
              "        vertical-align: middle;\n",
              "    }\n",
              "\n",
              "    .dataframe tbody tr th {\n",
              "        vertical-align: top;\n",
              "    }\n",
              "\n",
              "    .dataframe thead th {\n",
              "        text-align: right;\n",
              "    }\n",
              "</style>\n",
              "<table border=\"1\" class=\"dataframe\">\n",
              "  <thead>\n",
              "    <tr style=\"text-align: right;\">\n",
              "      <th></th>\n",
              "      <th>Model</th>\n",
              "      <th>RMSE - Train</th>\n",
              "      <th>RMSE - Primary test</th>\n",
              "      <th>RMSE - Secondary test</th>\n",
              "      <th>MPE - Train</th>\n",
              "      <th>MPE - Primary test</th>\n",
              "      <th>MPE - Secondary test</th>\n",
              "    </tr>\n",
              "  </thead>\n",
              "  <tbody>\n",
              "    <tr>\n",
              "      <th>0</th>\n",
              "      <td>Variance model</td>\n",
              "      <td>152.0</td>\n",
              "      <td>170.0</td>\n",
              "      <td>184.0</td>\n",
              "      <td>21.0</td>\n",
              "      <td>22.0</td>\n",
              "      <td>13.0</td>\n",
              "    </tr>\n",
              "    <tr>\n",
              "      <th>1</th>\n",
              "      <td>Discharge model</td>\n",
              "      <td>127.0</td>\n",
              "      <td>218.0</td>\n",
              "      <td>220.0</td>\n",
              "      <td>18.0</td>\n",
              "      <td>23.0</td>\n",
              "      <td>12.0</td>\n",
              "    </tr>\n",
              "    <tr>\n",
              "      <th>2</th>\n",
              "      <td>Full model</td>\n",
              "      <td>89.0</td>\n",
              "      <td>164.0</td>\n",
              "      <td>232.0</td>\n",
              "      <td>11.0</td>\n",
              "      <td>23.0</td>\n",
              "      <td>17.0</td>\n",
              "    </tr>\n",
              "  </tbody>\n",
              "</table>\n",
              "</div>"
            ],
            "text/plain": [
              "             Model  RMSE - Train  ...  MPE - Primary test  MPE - Secondary test\n",
              "0   Variance model         152.0  ...                22.0                  13.0\n",
              "1  Discharge model         127.0  ...                23.0                  12.0\n",
              "2       Full model          89.0  ...                23.0                  17.0\n",
              "\n",
              "[3 rows x 7 columns]"
            ]
          },
          "metadata": {
            "tags": []
          },
          "execution_count": 50
        }
      ]
    },
    {
      "cell_type": "code",
      "metadata": {
        "id": "tE6TLcYRm12p",
        "colab_type": "code",
        "colab": {}
      },
      "source": [
        ""
      ],
      "execution_count": 0,
      "outputs": []
    }
  ]
}