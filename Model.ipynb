{
  "nbformat": 4,
  "nbformat_minor": 0,
  "metadata": {
    "kernelspec": {
      "display_name": "Python 3",
      "language": "python",
      "name": "python3"
    },
    "language_info": {
      "codemirror_mode": {
        "name": "ipython",
        "version": 3
      },
      "file_extension": ".py",
      "mimetype": "text/x-python",
      "name": "python",
      "nbconvert_exporter": "python",
      "pygments_lexer": "ipython3",
      "version": "3.7.4"
    },
    "colab": {
      "name": "Model.ipynb",
      "provenance": [],
      "include_colab_link": true
    }
  },
  "cells": [
    {
      "cell_type": "markdown",
      "metadata": {
        "id": "view-in-github",
        "colab_type": "text"
      },
      "source": [
        "<a href=\"https://colab.research.google.com/github/rochan17/Battery-Life-Prediction/blob/master/Model.ipynb\" target=\"_parent\"><img src=\"https://colab.research.google.com/assets/colab-badge.svg\" alt=\"Open In Colab\"/></a>"
      ]
    },
    {
      "cell_type": "code",
      "metadata": {
        "id": "qkHLQ9KSn_jb",
        "colab_type": "code",
        "colab": {}
      },
      "source": [
        "import numpy as np\n",
        "import pandas as pd\n",
        "import matplotlib.pyplot as plt\n",
        "from sklearn.linear_model import ElasticNet,LinearRegression\n",
        "from sklearn.metrics import mean_squared_error,make_scorer,mean_absolute_error\n",
        "from sklearn.model_selection import GridSearchCV,train_test_split"
      ],
      "execution_count": 0,
      "outputs": []
    },
    {
      "cell_type": "code",
      "metadata": {
        "id": "iAncP0ecoNxS",
        "colab_type": "code",
        "outputId": "0054ddfb-d809-479c-e324-a8d407dcc04e",
        "colab": {
          "base_uri": "https://localhost:8080/",
          "height": 34
        }
      },
      "source": [
        "from google.colab import drive\n",
        "drive.mount('/content/drive')"
      ],
      "execution_count": 2,
      "outputs": [
        {
          "output_type": "stream",
          "text": [
            "Drive already mounted at /content/drive; to attempt to forcibly remount, call drive.mount(\"/content/drive\", force_remount=True).\n"
          ],
          "name": "stdout"
        }
      ]
    },
    {
      "cell_type": "code",
      "metadata": {
        "id": "dKdr0Vtwn_jf",
        "colab_type": "code",
        "colab": {}
      },
      "source": [
        "#making mean-percentage-error function\n",
        "def avg_per_error(y_true,y_pred):\n",
        "    return np.mean(np.abs((y_true - y_pred) / y_true)) * 100\n",
        "mean_error=make_scorer(avg_per_error,greater_is_better=False)"
      ],
      "execution_count": 0,
      "outputs": []
    },
    {
      "cell_type": "code",
      "metadata": {
        "id": "gS9wuSLTn_ji",
        "colab_type": "code",
        "colab": {}
      },
      "source": [
        "#loading Dataset\n",
        "Dataset=pd.read_csv('/content/drive/My Drive/College/Research/Battery Ageing/final_dataset.csv')"
      ],
      "execution_count": 0,
      "outputs": []
    },
    {
      "cell_type": "code",
      "metadata": {
        "id": "iiYJQeDZn_jl",
        "colab_type": "code",
        "colab": {}
      },
      "source": [
        "Dataset_imp=Dataset[Dataset['cell_life']!=np.min(Dataset['cell_life'])]"
      ],
      "execution_count": 0,
      "outputs": []
    },
    {
      "cell_type": "code",
      "metadata": {
        "id": "9hR0o4QRn_jn",
        "colab_type": "code",
        "colab": {}
      },
      "source": [
        "numBat1=41\n",
        "numBat2=43\n",
        "numBat3=40\n",
        "numBat=numBat1+numBat2+numBat3\n",
        "test_ind = np.hstack((np.arange(0,(numBat1+numBat2),2),83))\n",
        "train_ind = np.arange(1,(numBat1+numBat2-1),2)\n",
        "secondary_test_ind = np.arange(numBat-numBat3,numBat)\n",
        "\n",
        "Training_Data=Dataset.iloc[train_ind]\n",
        "Testing_Data=Dataset.iloc[test_ind]\n",
        "Secondary_Data=Dataset.iloc[secondary_test_ind]"
      ],
      "execution_count": 0,
      "outputs": []
    },
    {
      "cell_type": "code",
      "metadata": {
        "id": "oQdWAhJ4n_jq",
        "colab_type": "code",
        "colab": {}
      },
      "source": [
        "#choosing model features \n",
        "\n",
        "varmod_features=['variance_dQ_100_10']\n",
        "\n",
        "dismod_features=['minimum_dQ_100_10',\n",
        "                 'variance_dQ_100_10',\n",
        "                 'skewness_dQ_100_10',\n",
        "                 'kurtosis_dQ_100_10',\n",
        "                 'Discharge_Cap_2',\n",
        "                 'Diff_MaxCap_DC2']\n",
        "\n",
        "full_features=['minimum_dQ_100_10',\n",
        "               'variance_dQ_100_10',\n",
        "               'Slope_Cap_Fade_2_100',\n",
        "               'Intercept_Cap_Fade_2_100',\n",
        "               'Discharge_Cap_2',\n",
        "               'Avg_charge_time',\n",
        "               'Min_IR',\n",
        "               'Diff_IR_2_100']\n",
        "\n",
        "target_features=['cell_life']"
      ],
      "execution_count": 0,
      "outputs": []
    },
    {
      "cell_type": "code",
      "metadata": {
        "id": "uU4z0kx9n_jt",
        "colab_type": "code",
        "colab": {}
      },
      "source": [
        "#Model\n",
        "var_params={'alpha':np.linspace(0.01,1,50),\n",
        "       'l1_ratio':np.linspace(0.1,1,10)}\n",
        "\n",
        "dis_params={'alpha':np.linspace(0.01,1,10),\n",
        "       'l1_ratio':np.linspace(0.1,1,10)}\n",
        "\n",
        "full_params={'alpha':np.linspace(0.1,1,10),\n",
        "       'l1_ratio':np.linspace(0.1,1,10)}\n",
        "\n",
        "def mod(features,target,params):\n",
        "    \n",
        "    X_train=Training_Data[features]\n",
        "    y_train=Training_Data[target]\n",
        "    X_test=Testing_Data[features]\n",
        "    y_test=Testing_Data[target]\n",
        "    X_sec=Secondary_Data[features]\n",
        "    y_sec=Secondary_Data[target]\n",
        "    \n",
        "    RMSE=list()\n",
        "    MPE=list()\n",
        "    \n",
        "    regression=ElasticNet(max_iter=50000,normalize=True)\n",
        "    grid=GridSearchCV(estimator=regression,\n",
        "                  param_grid=params,\n",
        "                 cv=3,iid=False)\n",
        "    grid.fit(X_train,y_train)\n",
        "    \n",
        "    print(grid.score(X_train,y_train))\n",
        "    print(grid.best_params_)\n",
        "    \n",
        "    y_pred_train=grid.predict(X_train)\n",
        "    y_pred_test=grid.predict(X_test)\n",
        "    y_pred_sec=grid.predict(X_sec)\n",
        "    \n",
        "    RMSE.append(np.sqrt(mean_squared_error(y_train, y_pred_train)))\n",
        "    MPE.append(float(np.mean(np.abs((y_train - y_pred_train.reshape(-1,1))) / y_train * 100)))\n",
        "    \n",
        "    RMSE.append(np.sqrt(mean_squared_error(y_test, y_pred_test)))\n",
        "    MPE.append(float(np.mean(np.abs((y_test - y_pred_test.reshape(-1,1))) / y_test * 100)))\n",
        "\n",
        "    RMSE.append(np.sqrt(mean_squared_error(y_sec, y_pred_sec)))\n",
        "    MPE.append(float(np.mean(np.abs((y_sec - y_pred_sec.reshape(-1,1))) / y_sec * 100)))\n",
        "\n",
        "    return RMSE,MPE"
      ],
      "execution_count": 0,
      "outputs": []
    },
    {
      "cell_type": "code",
      "metadata": {
        "id": "A2inrdPEn_jv",
        "colab_type": "code",
        "outputId": "c9d576fd-79e1-4a37-c351-1d5916c5d3d8",
        "colab": {
          "base_uri": "https://localhost:8080/",
          "height": 85
        }
      },
      "source": [
        "var_rmse,var_mpe=mod(varmod_features,target_features,var_params)"
      ],
      "execution_count": 9,
      "outputs": [
        {
          "output_type": "stream",
          "text": [
            "0.7796973328849709\n",
            "{'alpha': 0.01, 'l1_ratio': 1.0}\n"
          ],
          "name": "stdout"
        },
        {
          "output_type": "stream",
          "text": [
            "/usr/local/lib/python3.6/dist-packages/sklearn/model_selection/_search.py:823: FutureWarning: The parameter 'iid' is deprecated in 0.22 and will be removed in 0.24.\n",
            "  \"removed in 0.24.\", FutureWarning\n"
          ],
          "name": "stderr"
        }
      ]
    },
    {
      "cell_type": "code",
      "metadata": {
        "id": "GB1PcFQon_jz",
        "colab_type": "code",
        "outputId": "917806cd-0993-4a7a-8c51-9d7e84ebe963",
        "colab": {
          "base_uri": "https://localhost:8080/",
          "height": 85
        }
      },
      "source": [
        "dis_rmse,dis_mpe=mod(dismod_features,target_features,dis_params)"
      ],
      "execution_count": 10,
      "outputs": [
        {
          "output_type": "stream",
          "text": [
            "0.8734517260793405\n",
            "{'alpha': 0.56, 'l1_ratio': 1.0}\n"
          ],
          "name": "stdout"
        },
        {
          "output_type": "stream",
          "text": [
            "/usr/local/lib/python3.6/dist-packages/sklearn/model_selection/_search.py:823: FutureWarning: The parameter 'iid' is deprecated in 0.22 and will be removed in 0.24.\n",
            "  \"removed in 0.24.\", FutureWarning\n"
          ],
          "name": "stderr"
        }
      ]
    },
    {
      "cell_type": "code",
      "metadata": {
        "id": "6Wh63a0fn_j1",
        "colab_type": "code",
        "outputId": "5053a374-b22f-4592-e3fd-66effadd29ed",
        "colab": {
          "base_uri": "https://localhost:8080/",
          "height": 85
        }
      },
      "source": [
        "full_rmse,full_mpe=mod(full_features,target_features,full_params)"
      ],
      "execution_count": 11,
      "outputs": [
        {
          "output_type": "stream",
          "text": [
            "0.9243295107561466\n",
            "{'alpha': 0.6, 'l1_ratio': 1.0}\n"
          ],
          "name": "stdout"
        },
        {
          "output_type": "stream",
          "text": [
            "/usr/local/lib/python3.6/dist-packages/sklearn/model_selection/_search.py:823: FutureWarning: The parameter 'iid' is deprecated in 0.22 and will be removed in 0.24.\n",
            "  \"removed in 0.24.\", FutureWarning\n"
          ],
          "name": "stderr"
        }
      ]
    },
    {
      "cell_type": "code",
      "metadata": {
        "id": "Q8QYlhuFn_j3",
        "colab_type": "code",
        "outputId": "52b42d0b-f1fc-4ba9-9228-8ac26890dc8d",
        "colab": {
          "base_uri": "https://localhost:8080/",
          "height": 142
        }
      },
      "source": [
        "pd.DataFrame({\"Model\":[\"Variance model\", \"Discharge model\", \"Full model\"],\n",
        "              \"RMSE - Train\": [var_rmse[0],dis_rmse[0],full_rmse[0]],\n",
        "              \"RMSE - Primary test\": [var_rmse[1],dis_rmse[1],full_rmse[1]],\n",
        "              \"RMSE - Secondary test\": [var_rmse[2],dis_rmse[2],full_rmse[2]],\n",
        "              \"MPE - Train\": [var_mpe[0],dis_mpe[0],full_mpe[0]],\n",
        "              \"MPE - Primary test\": [var_mpe[1],dis_mpe[1],full_mpe[1]],\n",
        "              \"MPE - Secondary test\": [var_mpe[2],dis_mpe[2],full_mpe[2]]})                                                                       "
      ],
      "execution_count": 12,
      "outputs": [
        {
          "output_type": "execute_result",
          "data": {
            "text/html": [
              "<div>\n",
              "<style scoped>\n",
              "    .dataframe tbody tr th:only-of-type {\n",
              "        vertical-align: middle;\n",
              "    }\n",
              "\n",
              "    .dataframe tbody tr th {\n",
              "        vertical-align: top;\n",
              "    }\n",
              "\n",
              "    .dataframe thead th {\n",
              "        text-align: right;\n",
              "    }\n",
              "</style>\n",
              "<table border=\"1\" class=\"dataframe\">\n",
              "  <thead>\n",
              "    <tr style=\"text-align: right;\">\n",
              "      <th></th>\n",
              "      <th>Model</th>\n",
              "      <th>RMSE - Train</th>\n",
              "      <th>RMSE - Primary test</th>\n",
              "      <th>RMSE - Secondary test</th>\n",
              "      <th>MPE - Train</th>\n",
              "      <th>MPE - Primary test</th>\n",
              "      <th>MPE - Secondary test</th>\n",
              "    </tr>\n",
              "  </thead>\n",
              "  <tbody>\n",
              "    <tr>\n",
              "      <th>0</th>\n",
              "      <td>Variance model</td>\n",
              "      <td>151.665318</td>\n",
              "      <td>166.815772</td>\n",
              "      <td>183.028543</td>\n",
              "      <td>21.612829</td>\n",
              "      <td>22.229672</td>\n",
              "      <td>12.872008</td>\n",
              "    </tr>\n",
              "    <tr>\n",
              "      <th>1</th>\n",
              "      <td>Discharge model</td>\n",
              "      <td>114.948819</td>\n",
              "      <td>7016.056555</td>\n",
              "      <td>206.541474</td>\n",
              "      <td>16.021829</td>\n",
              "      <td>187.797192</td>\n",
              "      <td>14.724087</td>\n",
              "    </tr>\n",
              "    <tr>\n",
              "      <th>2</th>\n",
              "      <td>Full model</td>\n",
              "      <td>88.887292</td>\n",
              "      <td>172.062990</td>\n",
              "      <td>226.810949</td>\n",
              "      <td>11.131415</td>\n",
              "      <td>23.937359</td>\n",
              "      <td>15.836456</td>\n",
              "    </tr>\n",
              "  </tbody>\n",
              "</table>\n",
              "</div>"
            ],
            "text/plain": [
              "             Model  RMSE - Train  ...  MPE - Primary test  MPE - Secondary test\n",
              "0   Variance model    151.665318  ...           22.229672             12.872008\n",
              "1  Discharge model    114.948819  ...          187.797192             14.724087\n",
              "2       Full model     88.887292  ...           23.937359             15.836456\n",
              "\n",
              "[3 rows x 7 columns]"
            ]
          },
          "metadata": {
            "tags": []
          },
          "execution_count": 12
        }
      ]
    },
    {
      "cell_type": "code",
      "metadata": {
        "id": "15FX5xawn_j6",
        "colab_type": "code",
        "colab": {}
      },
      "source": [
        "        "
      ],
      "execution_count": 0,
      "outputs": []
    }
  ]
}