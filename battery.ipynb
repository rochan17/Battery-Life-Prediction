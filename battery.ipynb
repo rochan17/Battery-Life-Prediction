{
  "nbformat": 4,
  "nbformat_minor": 0,
  "metadata": {
    "kernelspec": {
      "display_name": "Python 3",
      "language": "python",
      "name": "python3"
    },
    "language_info": {
      "codemirror_mode": {
        "name": "ipython",
        "version": 3
      },
      "file_extension": ".py",
      "mimetype": "text/x-python",
      "name": "python",
      "nbconvert_exporter": "python",
      "pygments_lexer": "ipython3",
      "version": "3.7.4"
    },
    "colab": {
      "name": "battery.ipynb",
      "provenance": [],
      "include_colab_link": true
    }
  },
  "cells": [
    {
      "cell_type": "markdown",
      "metadata": {
        "id": "view-in-github",
        "colab_type": "text"
      },
      "source": [
        "<a href=\"https://colab.research.google.com/github/rochan17/Battery-Life-Prediction/blob/master/battery.ipynb\" target=\"_parent\"><img src=\"https://colab.research.google.com/assets/colab-badge.svg\" alt=\"Open In Colab\"/></a>"
      ]
    },
    {
      "cell_type": "code",
      "metadata": {
        "id": "Wat2-g55Jaam",
        "colab_type": "code",
        "colab": {}
      },
      "source": [
        "import h5py\n",
        "import scipy.io\n",
        "import matplotlib.pyplot as plt\n",
        "import numpy as np\n",
        "import pickle\n",
        "import pandas as pd"
      ],
      "execution_count": 0,
      "outputs": []
    },
    {
      "cell_type": "code",
      "metadata": {
        "id": "qnEw7b0qJaa4",
        "colab_type": "code",
        "colab": {}
      },
      "source": [
        "matFilename = '2017-05-12_batchdata_updated_struct_errorcorrect.mat'\n",
        "f = h5py.File(matFilename)"
      ],
      "execution_count": 0,
      "outputs": []
    },
    {
      "cell_type": "code",
      "metadata": {
        "id": "T2gkmM6xJabD",
        "colab_type": "code",
        "colab": {},
        "outputId": "fb49f329-93ce-4408-a2b7-e8359196f7e9"
      },
      "source": [
        "list(f.keys())"
      ],
      "execution_count": 0,
      "outputs": [
        {
          "output_type": "execute_result",
          "data": {
            "text/plain": [
              "['#refs#', '#subsystem#', 'batch', 'batch_date']"
            ]
          },
          "metadata": {
            "tags": []
          },
          "execution_count": 9
        }
      ]
    },
    {
      "cell_type": "code",
      "metadata": {
        "id": "yFKxe_MoJabS",
        "colab_type": "code",
        "colab": {}
      },
      "source": [
        "batch=f['batch']"
      ],
      "execution_count": 0,
      "outputs": []
    },
    {
      "cell_type": "code",
      "metadata": {
        "id": "xKUtvi7iJabb",
        "colab_type": "code",
        "colab": {},
        "outputId": "8700eefe-92ce-442b-e3b7-63e60738d308"
      },
      "source": [
        "list(batch.keys())"
      ],
      "execution_count": 0,
      "outputs": [
        {
          "output_type": "execute_result",
          "data": {
            "text/plain": [
              "['Vdlin',\n",
              " 'barcode',\n",
              " 'channel_id',\n",
              " 'cycle_life',\n",
              " 'cycles',\n",
              " 'policy',\n",
              " 'policy_readable',\n",
              " 'summary']"
            ]
          },
          "metadata": {
            "tags": []
          },
          "execution_count": 11
        }
      ]
    },
    {
      "cell_type": "code",
      "metadata": {
        "id": "sktJY6nFJabj",
        "colab_type": "code",
        "colab": {}
      },
      "source": [
        "num_cells = batch['summary'].shape[0]\n",
        "bat_dict = {}\n",
        "for i in range(num_cells):\n",
        "    cl = f[batch['cycle_life'][i,0]].value\n",
        "    policy = f[batch['policy_readable'][i,0]].value.tobytes()[::2].decode()\n",
        "    summary_IR = np.hstack(f[batch['summary'][i,0]]['IR'][0,:].tolist())\n",
        "    summary_QC = np.hstack(f[batch['summary'][i,0]]['QCharge'][0,:].tolist())\n",
        "    summary_QD = np.hstack(f[batch['summary'][i,0]]['QDischarge'][0,:].tolist())\n",
        "    summary_TA = np.hstack(f[batch['summary'][i,0]]['Tavg'][0,:].tolist())\n",
        "    summary_TM = np.hstack(f[batch['summary'][i,0]]['Tmin'][0,:].tolist())\n",
        "    summary_TX = np.hstack(f[batch['summary'][i,0]]['Tmax'][0,:].tolist())\n",
        "    summary_CT = np.hstack(f[batch['summary'][i,0]]['chargetime'][0,:].tolist())\n",
        "    summary_CY = np.hstack(f[batch['summary'][i,0]]['cycle'][0,:].tolist())\n",
        "    summary = {'IR': summary_IR, 'QC': summary_QC, 'QD': summary_QD, 'Tavg':\n",
        "                summary_TA, 'Tmin': summary_TM, 'Tmax': summary_TX, 'chargetime': summary_CT,\n",
        "                'cycle': summary_CY}\n",
        "    cycles = f[batch['cycles'][i,0]]\n",
        "    cycle_dict = {}\n",
        "    for j in range(cycles['I'].shape[0]):\n",
        "        I = np.hstack((f[cycles['I'][j,0]].value))\n",
        "        Qc = np.hstack((f[cycles['Qc'][j,0]].value))\n",
        "        Qd = np.hstack((f[cycles['Qd'][j,0]].value))\n",
        "        Qdlin = np.hstack((f[cycles['Qdlin'][j,0]].value))\n",
        "        T = np.hstack((f[cycles['T'][j,0]].value))\n",
        "        Tdlin = np.hstack((f[cycles['Tdlin'][j,0]].value))\n",
        "        V = np.hstack((f[cycles['V'][j,0]].value))\n",
        "        dQdV = np.hstack((f[cycles['discharge_dQdV'][j,0]].value))\n",
        "        t = np.hstack((f[cycles['t'][j,0]].value))\n",
        "        cd = {'I': I, 'Qc': Qc, 'Qd': Qd, 'Qdlin': Qdlin, 'T': T, 'Tdlin': Tdlin, 'V':V, 'dQdV': dQdV, 't':t}\n",
        "        cycle_dict[str(j)] = cd\n",
        "        \n",
        "    cell_dict = {'cycle_life': cl, 'charge_policy':policy, 'summary': summary, 'cycles': cycle_dict}\n",
        "    key = 'b1c' + str(i)\n",
        "    bat_dict[key]=   cell_dict"
      ],
      "execution_count": 0,
      "outputs": []
    },
    {
      "cell_type": "code",
      "metadata": {
        "id": "HpRR5d5RJabo",
        "colab_type": "code",
        "colab": {},
        "outputId": "5590d962-4d94-4fb3-9fc3-af8b988b7630"
      },
      "source": [
        "bat_dict.keys()"
      ],
      "execution_count": 0,
      "outputs": [
        {
          "output_type": "execute_result",
          "data": {
            "text/plain": [
              "dict_keys(['b1c0', 'b1c1', 'b1c2', 'b1c3', 'b1c4', 'b1c5', 'b1c6', 'b1c7', 'b1c8', 'b1c9', 'b1c10', 'b1c11', 'b1c12', 'b1c13', 'b1c14', 'b1c15', 'b1c16', 'b1c17', 'b1c18', 'b1c19', 'b1c20', 'b1c21', 'b1c22', 'b1c23', 'b1c24', 'b1c25', 'b1c26', 'b1c27', 'b1c28', 'b1c29', 'b1c30', 'b1c31', 'b1c32', 'b1c33', 'b1c34', 'b1c35', 'b1c36', 'b1c37', 'b1c38', 'b1c39', 'b1c40', 'b1c41', 'b1c42', 'b1c43', 'b1c44', 'b1c45'])"
            ]
          },
          "metadata": {
            "tags": []
          },
          "execution_count": 13
        }
      ]
    },
    {
      "cell_type": "code",
      "metadata": {
        "id": "PQPrXhWUJabu",
        "colab_type": "code",
        "colab": {}
      },
      "source": [
        "with open('batch1.pkl','wb') as fp:\n",
        "        pickle.dump(bat_dict,fp)"
      ],
      "execution_count": 0,
      "outputs": []
    },
    {
      "cell_type": "markdown",
      "metadata": {
        "id": "CEX8tyFLJaby",
        "colab_type": "text"
      },
      "source": [
        "#Batch2"
      ]
    },
    {
      "cell_type": "code",
      "metadata": {
        "id": "BE9SlqWgJabz",
        "colab_type": "code",
        "colab": {}
      },
      "source": [
        ""
      ],
      "execution_count": 0,
      "outputs": []
    },
    {
      "cell_type": "code",
      "metadata": {
        "id": "96wJmZWDJab2",
        "colab_type": "code",
        "colab": {}
      },
      "source": [
        "matFilename = '2017-06-30_batchdata_updated_struct_errorcorrect(Batch2).mat'\n",
        "f = h5py.File(matFilename)"
      ],
      "execution_count": 0,
      "outputs": []
    },
    {
      "cell_type": "code",
      "metadata": {
        "id": "lCLY2QD4Jab6",
        "colab_type": "code",
        "colab": {},
        "outputId": "8c6a9d54-4d02-4f2b-fea6-58e33c0cad42"
      },
      "source": [
        "list(f.keys())"
      ],
      "execution_count": 0,
      "outputs": [
        {
          "output_type": "execute_result",
          "data": {
            "text/plain": [
              "['#refs#', '#subsystem#', 'batch', 'batch_date']"
            ]
          },
          "metadata": {
            "tags": []
          },
          "execution_count": 16
        }
      ]
    },
    {
      "cell_type": "code",
      "metadata": {
        "id": "bPKW06IuJacA",
        "colab_type": "code",
        "colab": {}
      },
      "source": [
        "batch=f['batch']"
      ],
      "execution_count": 0,
      "outputs": []
    },
    {
      "cell_type": "code",
      "metadata": {
        "id": "2RfQYWmzJacE",
        "colab_type": "code",
        "colab": {},
        "outputId": "02986786-231c-4c27-ed82-3c5487bf9b6a"
      },
      "source": [
        "list(batch.keys())"
      ],
      "execution_count": 0,
      "outputs": [
        {
          "output_type": "execute_result",
          "data": {
            "text/plain": [
              "['Vdlin',\n",
              " 'barcode',\n",
              " 'channel_id',\n",
              " 'cycle_life',\n",
              " 'cycles',\n",
              " 'policy',\n",
              " 'policy_readable',\n",
              " 'summary']"
            ]
          },
          "metadata": {
            "tags": []
          },
          "execution_count": 18
        }
      ]
    },
    {
      "cell_type": "code",
      "metadata": {
        "id": "oy4gWAMwJacH",
        "colab_type": "code",
        "colab": {}
      },
      "source": [
        "num_cells = batch['summary'].shape[0]\n",
        "bat_dict = {}\n",
        "for i in range(num_cells):\n",
        "    cl = f[batch['cycle_life'][i,0]].value\n",
        "    policy = f[batch['policy_readable'][i,0]].value.tobytes()[::2].decode()\n",
        "    summary_IR = np.hstack(f[batch['summary'][i,0]]['IR'][0,:].tolist())\n",
        "    summary_QC = np.hstack(f[batch['summary'][i,0]]['QCharge'][0,:].tolist())\n",
        "    summary_QD = np.hstack(f[batch['summary'][i,0]]['QDischarge'][0,:].tolist())\n",
        "    summary_TA = np.hstack(f[batch['summary'][i,0]]['Tavg'][0,:].tolist())\n",
        "    summary_TM = np.hstack(f[batch['summary'][i,0]]['Tmin'][0,:].tolist())\n",
        "    summary_TX = np.hstack(f[batch['summary'][i,0]]['Tmax'][0,:].tolist())\n",
        "    summary_CT = np.hstack(f[batch['summary'][i,0]]['chargetime'][0,:].tolist())\n",
        "    summary_CY = np.hstack(f[batch['summary'][i,0]]['cycle'][0,:].tolist())\n",
        "    summary = {'IR': summary_IR, 'QC': summary_QC, 'QD': summary_QD, 'Tavg':\n",
        "                summary_TA, 'Tmin': summary_TM, 'Tmax': summary_TX, 'chargetime': summary_CT,\n",
        "                'cycle': summary_CY}\n",
        "    cycles = f[batch['cycles'][i,0]]\n",
        "    cycle_dict = {}\n",
        "    for j in range(cycles['I'].shape[0]):\n",
        "        I = np.hstack((f[cycles['I'][j,0]].value))\n",
        "        Qc = np.hstack((f[cycles['Qc'][j,0]].value))\n",
        "        Qd = np.hstack((f[cycles['Qd'][j,0]].value))\n",
        "        Qdlin = np.hstack((f[cycles['Qdlin'][j,0]].value))\n",
        "        T = np.hstack((f[cycles['T'][j,0]].value))\n",
        "        Tdlin = np.hstack((f[cycles['Tdlin'][j,0]].value))\n",
        "        V = np.hstack((f[cycles['V'][j,0]].value))\n",
        "        dQdV = np.hstack((f[cycles['discharge_dQdV'][j,0]].value))\n",
        "        t = np.hstack((f[cycles['t'][j,0]].value))\n",
        "        cd = {'I': I, 'Qc': Qc, 'Qd': Qd, 'Qdlin': Qdlin, 'T': T, 'Tdlin': Tdlin, 'V':V, 'dQdV': dQdV, 't':t}\n",
        "        cycle_dict[str(j)] = cd\n",
        "        \n",
        "    cell_dict = {'cycle_life': cl, 'charge_policy':policy, 'summary': summary, 'cycles': cycle_dict}\n",
        "    key = 'b2c' + str(i)\n",
        "    bat_dict[key]=   cell_dict"
      ],
      "execution_count": 0,
      "outputs": []
    },
    {
      "cell_type": "code",
      "metadata": {
        "id": "YpvcLct8JacL",
        "colab_type": "code",
        "colab": {},
        "outputId": "e6c9b0c0-5efe-4b48-bba6-cd6d7e9e76e2"
      },
      "source": [
        "bat_dict.keys()"
      ],
      "execution_count": 0,
      "outputs": [
        {
          "output_type": "execute_result",
          "data": {
            "text/plain": [
              "dict_keys(['b2c0', 'b2c1', 'b2c2', 'b2c3', 'b2c4', 'b2c5', 'b2c6', 'b2c7', 'b2c8', 'b2c9', 'b2c10', 'b2c11', 'b2c12', 'b2c13', 'b2c14', 'b2c15', 'b2c16', 'b2c17', 'b2c18', 'b2c19', 'b2c20', 'b2c21', 'b2c22', 'b2c23', 'b2c24', 'b2c25', 'b2c26', 'b2c27', 'b2c28', 'b2c29', 'b2c30', 'b2c31', 'b2c32', 'b2c33', 'b2c34', 'b2c35', 'b2c36', 'b2c37', 'b2c38', 'b2c39', 'b2c40', 'b2c41', 'b2c42', 'b2c43', 'b2c44', 'b2c45', 'b2c46', 'b2c47'])"
            ]
          },
          "metadata": {
            "tags": []
          },
          "execution_count": 20
        }
      ]
    },
    {
      "cell_type": "code",
      "metadata": {
        "id": "FBFyYHHUJacP",
        "colab_type": "code",
        "colab": {}
      },
      "source": [
        "with open('batch2.pkl','wb') as fp:\n",
        "        pickle.dump(bat_dict,fp)"
      ],
      "execution_count": 0,
      "outputs": []
    },
    {
      "cell_type": "markdown",
      "metadata": {
        "id": "nfFHFaYxJacT",
        "colab_type": "text"
      },
      "source": [
        "Batch 3"
      ]
    },
    {
      "cell_type": "code",
      "metadata": {
        "id": "CNa9dRdgJacU",
        "colab_type": "code",
        "colab": {}
      },
      "source": [
        "matFilename = '2018-04-12_batchdata_updated_struct_errorcorrect(Batch3).mat'\n",
        "f = h5py.File(matFilename)"
      ],
      "execution_count": 0,
      "outputs": []
    },
    {
      "cell_type": "code",
      "metadata": {
        "id": "8JWMdwApJacb",
        "colab_type": "code",
        "colab": {},
        "outputId": "b97db744-aa7a-4ae3-e846-664c98f6389f"
      },
      "source": [
        "list(f.keys())"
      ],
      "execution_count": 0,
      "outputs": [
        {
          "output_type": "execute_result",
          "data": {
            "text/plain": [
              "['#refs#', '#subsystem#', 'batch', 'batch_date']"
            ]
          },
          "metadata": {
            "tags": []
          },
          "execution_count": 23
        }
      ]
    },
    {
      "cell_type": "code",
      "metadata": {
        "id": "UTN5wKb6Jace",
        "colab_type": "code",
        "colab": {}
      },
      "source": [
        "batch=f['batch']"
      ],
      "execution_count": 0,
      "outputs": []
    },
    {
      "cell_type": "code",
      "metadata": {
        "id": "RgD4lC5mJach",
        "colab_type": "code",
        "colab": {},
        "outputId": "0706ec41-dfd4-4f19-d3e7-072a79ee8d7d"
      },
      "source": [
        "list(batch.keys())"
      ],
      "execution_count": 0,
      "outputs": [
        {
          "output_type": "execute_result",
          "data": {
            "text/plain": [
              "['Vdlin',\n",
              " 'barcode',\n",
              " 'channel_id',\n",
              " 'cycle_life',\n",
              " 'cycles',\n",
              " 'policy',\n",
              " 'policy_readable',\n",
              " 'summary']"
            ]
          },
          "metadata": {
            "tags": []
          },
          "execution_count": 25
        }
      ]
    },
    {
      "cell_type": "code",
      "metadata": {
        "id": "yAuedv7YJacl",
        "colab_type": "code",
        "colab": {}
      },
      "source": [
        "num_cells = batch['summary'].shape[0]\n",
        "bat_dict = {}\n",
        "\n"
      ],
      "execution_count": 0,
      "outputs": []
    },
    {
      "cell_type": "code",
      "metadata": {
        "id": "UVhkO_m3Jaco",
        "colab_type": "code",
        "colab": {}
      },
      "source": [
        "for i in range(num_cells):\n",
        "    cl = f[batch['cycle_life'][i,0]].value\n",
        "    policy = f[batch['policy_readable'][i,0]].value.tobytes()[::2].decode()\n",
        "    summary_IR = np.hstack(f[batch['summary'][i,0]]['IR'][0,:].tolist())\n",
        "    summary_QC = np.hstack(f[batch['summary'][i,0]]['QCharge'][0,:].tolist())\n",
        "    summary_QD = np.hstack(f[batch['summary'][i,0]]['QDischarge'][0,:].tolist())\n",
        "    summary_TA = np.hstack(f[batch['summary'][i,0]]['Tavg'][0,:].tolist())\n",
        "    summary_TM = np.hstack(f[batch['summary'][i,0]]['Tmin'][0,:].tolist())\n",
        "    summary_TX = np.hstack(f[batch['summary'][i,0]]['Tmax'][0,:].tolist())\n",
        "    summary_CT = np.hstack(f[batch['summary'][i,0]]['chargetime'][0,:].tolist())\n",
        "    summary_CY = np.hstack(f[batch['summary'][i,0]]['cycle'][0,:].tolist())\n",
        "    summary = {'IR': summary_IR, 'QC': summary_QC, 'QD': summary_QD, 'Tavg':\n",
        "                summary_TA, 'Tmin': summary_TM, 'Tmax': summary_TX, 'chargetime': summary_CT,\n",
        "                'cycle': summary_CY}\n",
        "    cycles = f[batch['cycles'][i,0]]\n",
        "    cycle_dict = {}\n",
        "    for j in range(cycles['I'].shape[0]):\n",
        "        I = np.hstack((f[cycles['I'][j,0]].value))\n",
        "        Qc = np.hstack((f[cycles['Qc'][j,0]].value))\n",
        "        Qd = np.hstack((f[cycles['Qd'][j,0]].value))\n",
        "        Qdlin = np.hstack((f[cycles['Qdlin'][j,0]].value))\n",
        "        T = np.hstack((f[cycles['T'][j,0]].value))\n",
        "        Tdlin = np.hstack((f[cycles['Tdlin'][j,0]].value))\n",
        "        V = np.hstack((f[cycles['V'][j,0]].value))\n",
        "        dQdV = np.hstack((f[cycles['discharge_dQdV'][j,0]].value))\n",
        "        t = np.hstack((f[cycles['t'][j,0]].value))\n",
        "        cd = {'I': I, 'Qc': Qc, 'Qd': Qd, 'Qdlin': Qdlin, 'T': T, 'Tdlin': Tdlin, 'V':V, 'dQdV': dQdV, 't':t}\n",
        "        cycle_dict[str(j)] = cd\n",
        "        \n",
        "    cell_dict = {'cycle_life': cl, 'charge_policy':policy, 'summary': summary, 'cycles': cycle_dict}\n",
        "    key = 'b3c' + str(i)\n",
        "    bat_dict[key]=   cell_dict"
      ],
      "execution_count": 0,
      "outputs": []
    },
    {
      "cell_type": "code",
      "metadata": {
        "id": "lTzR12NtJacq",
        "colab_type": "code",
        "colab": {},
        "outputId": "c8bdb286-8534-4d0a-a417-8675737e2630"
      },
      "source": [
        "bat_dict.keys()"
      ],
      "execution_count": 0,
      "outputs": [
        {
          "output_type": "execute_result",
          "data": {
            "text/plain": [
              "dict_keys(['b3c0', 'b3c1', 'b3c2', 'b3c3', 'b3c4', 'b3c5', 'b3c6', 'b3c7', 'b3c8', 'b3c9', 'b3c10', 'b3c11', 'b3c12', 'b3c13', 'b3c14', 'b3c15', 'b3c16', 'b3c17', 'b3c18', 'b3c19', 'b3c20', 'b3c21', 'b3c22', 'b3c23', 'b3c24', 'b3c25', 'b3c26', 'b3c27', 'b3c28', 'b3c29', 'b3c30', 'b3c31', 'b3c32', 'b3c33', 'b3c34', 'b3c35', 'b3c36', 'b3c37', 'b3c38', 'b3c39', 'b3c40', 'b3c41', 'b3c42', 'b3c43', 'b3c44', 'b3c45'])"
            ]
          },
          "metadata": {
            "tags": []
          },
          "execution_count": 28
        }
      ]
    },
    {
      "cell_type": "code",
      "metadata": {
        "id": "PgTNR36iJacu",
        "colab_type": "code",
        "colab": {}
      },
      "source": [
        "with open('batch3.pkl','wb') as fp:\n",
        "        pickle.dump(bat_dict,fp)"
      ],
      "execution_count": 0,
      "outputs": []
    },
    {
      "cell_type": "code",
      "metadata": {
        "id": "SJlJstulJacx",
        "colab_type": "code",
        "colab": {}
      },
      "source": [
        ""
      ],
      "execution_count": 0,
      "outputs": []
    },
    {
      "cell_type": "code",
      "metadata": {
        "id": "skvBt6elJac1",
        "colab_type": "code",
        "colab": {}
      },
      "source": [
        ""
      ],
      "execution_count": 0,
      "outputs": []
    }
  ]
}